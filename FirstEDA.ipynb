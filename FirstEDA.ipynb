{
  "nbformat": 4,
  "nbformat_minor": 0,
  "metadata": {
    "colab": {
      "provenance": [],
      "include_colab_link": true
    },
    "kernelspec": {
      "name": "python3",
      "display_name": "Python 3"
    },
    "language_info": {
      "name": "python"
    }
  },
  "cells": [
    {
      "cell_type": "markdown",
      "metadata": {
        "id": "view-in-github",
        "colab_type": "text"
      },
      "source": [
        "<a href=\"https://colab.research.google.com/github/BjerringNYK/BDS/blob/main/FirstEDA.ipynb\" target=\"_parent\"><img src=\"https://colab.research.google.com/assets/colab-badge.svg\" alt=\"Open In Colab\"/></a>"
      ]
    },
    {
      "cell_type": "markdown",
      "source": [
        "# Assignment 1: Exploratory Data Analysis (EDA) and Visualization\n"
      ],
      "metadata": {
        "id": "IgJrQdFNq8nW"
      }
    },
    {
      "cell_type": "markdown",
      "source": [
        "## FINDEX (Global Financial Index Microdata) and it's business context\n",
        "\n",
        "The Global Findex database is the most comprehensive dataset on adult financial behaviors worldwide, capturing insights into how individuals save, borrow, make payments, and manage financial risks. Initiated by the World Bank in 2011, the dataset is based on nationally representative surveys of over 150,000 adults across more than 140 economies. The 2021 edition provides updated indicators on the use of both formal and informal financial services.\n",
        "\n",
        "For this analysis, we will conduct an Exploratory Data Analysis (EDA) to uncover key patterns and trends in the financial behaviors of individuals globally. As this analysis is undertaken by a group of finance students with a strong interest in banking and personal finance, our focus will be on examining how different demographics access and use financial services across various economies.\n",
        "\n",
        "# **This is just a draft for what we could be writing to begin with**\n"
      ],
      "metadata": {
        "id": "qKgRYOzDsfA7"
      }
    },
    {
      "cell_type": "markdown",
      "source": [
        "## 1. Data Cleaning and Manipulation"
      ],
      "metadata": {
        "id": "lHVrSBEP16wo"
      }
    },
    {
      "cell_type": "code",
      "source": [
        "# Importning libraries to be used\n",
        "import pandas as pd\n",
        "import numpy as np\n",
        "import matplotlib.pyplot as plt\n",
        "import seaborn as sns\n",
        "\n",
        "# Initially, the data couldn’t be read with UTF-8 due to special characters. Using ChatGPT we found that latin-1 supports these characters, allowing for proper file decoding.\n",
        "# data = pd.read_csv('https://github.com/aaubs/ds-master/raw/main/data/assignments_datasets/FINDEX/WLD_2021_FINDEX_v03_M_csv.zip')"
      ],
      "metadata": {
        "id": "X6EDUnov9rnN"
      },
      "execution_count": 2,
      "outputs": []
    },
    {
      "source": [
        "# Reading the data using the raw URL on github\n",
        "data = pd.read_csv('https://github.com/aaubs/ds-master/raw/main/data/assignments_datasets/FINDEX/WLD_2021_FINDEX_v03_M_csv.zip', encoding='latin-1')"
      ],
      "cell_type": "code",
      "metadata": {
        "id": "yMUNWLY-6v1i"
      },
      "execution_count": 3,
      "outputs": []
    },
    {
      "cell_type": "markdown",
      "source": [
        "### Initial Data Structure Overview: Head, Info, Shape, Index, and Column Names"
      ],
      "metadata": {
        "id": "aaFSnGWwVOwe"
      }
    },
    {
      "cell_type": "code",
      "source": [
        "data.head()"
      ],
      "metadata": {
        "colab": {
          "base_uri": "https://localhost:8080/",
          "height": 256
        },
        "id": "9G5sCwa3V9wJ",
        "outputId": "234121b8-f770-45f6-bade-f603f0aea4f8"
      },
      "execution_count": 4,
      "outputs": [
        {
          "output_type": "execute_result",
          "data": {
            "text/plain": [
              "       economy economycode    regionwb   pop_adult  wpid_random       wgt  \\\n",
              "0  Afghanistan         AFG  South Asia  22647496.0    144274031  0.716416   \n",
              "1  Afghanistan         AFG  South Asia  22647496.0    180724554  0.497408   \n",
              "2  Afghanistan         AFG  South Asia  22647496.0    130686682  0.650431   \n",
              "3  Afghanistan         AFG  South Asia  22647496.0    142646649  0.991862   \n",
              "4  Afghanistan         AFG  South Asia  22647496.0    199055310  0.554940   \n",
              "\n",
              "   female   age  educ  inc_q  ...  receive_transfers  receive_pension  \\\n",
              "0       2  43.0     2      4  ...                  4                4   \n",
              "1       2  55.0     1      3  ...                  4                4   \n",
              "2       1  15.0     1      2  ...                  4                4   \n",
              "3       2  23.0     1      4  ...                  4                4   \n",
              "4       1  46.0     1      1  ...                  4                4   \n",
              "\n",
              "   receive_agriculture  pay_utilities  remittances  mobileowner  \\\n",
              "0                  4.0              1          5.0            1   \n",
              "1                  2.0              4          5.0            1   \n",
              "2                  4.0              4          3.0            2   \n",
              "3                  2.0              4          5.0            1   \n",
              "4                  4.0              4          5.0            2   \n",
              "\n",
              "   internetaccess  anydigpayment  merchantpay_dig  year  \n",
              "0               2              1              0.0  2021  \n",
              "1               2              0              0.0  2021  \n",
              "2               2              0              0.0  2021  \n",
              "3               2              0              0.0  2021  \n",
              "4               2              0              0.0  2021  \n",
              "\n",
              "[5 rows x 128 columns]"
            ],
            "text/html": [
              "\n",
              "  <div id=\"df-76c2d5c6-f0f5-4a85-a0d7-1564a3b3e4b5\" class=\"colab-df-container\">\n",
              "    <div>\n",
              "<style scoped>\n",
              "    .dataframe tbody tr th:only-of-type {\n",
              "        vertical-align: middle;\n",
              "    }\n",
              "\n",
              "    .dataframe tbody tr th {\n",
              "        vertical-align: top;\n",
              "    }\n",
              "\n",
              "    .dataframe thead th {\n",
              "        text-align: right;\n",
              "    }\n",
              "</style>\n",
              "<table border=\"1\" class=\"dataframe\">\n",
              "  <thead>\n",
              "    <tr style=\"text-align: right;\">\n",
              "      <th></th>\n",
              "      <th>economy</th>\n",
              "      <th>economycode</th>\n",
              "      <th>regionwb</th>\n",
              "      <th>pop_adult</th>\n",
              "      <th>wpid_random</th>\n",
              "      <th>wgt</th>\n",
              "      <th>female</th>\n",
              "      <th>age</th>\n",
              "      <th>educ</th>\n",
              "      <th>inc_q</th>\n",
              "      <th>...</th>\n",
              "      <th>receive_transfers</th>\n",
              "      <th>receive_pension</th>\n",
              "      <th>receive_agriculture</th>\n",
              "      <th>pay_utilities</th>\n",
              "      <th>remittances</th>\n",
              "      <th>mobileowner</th>\n",
              "      <th>internetaccess</th>\n",
              "      <th>anydigpayment</th>\n",
              "      <th>merchantpay_dig</th>\n",
              "      <th>year</th>\n",
              "    </tr>\n",
              "  </thead>\n",
              "  <tbody>\n",
              "    <tr>\n",
              "      <th>0</th>\n",
              "      <td>Afghanistan</td>\n",
              "      <td>AFG</td>\n",
              "      <td>South Asia</td>\n",
              "      <td>22647496.0</td>\n",
              "      <td>144274031</td>\n",
              "      <td>0.716416</td>\n",
              "      <td>2</td>\n",
              "      <td>43.0</td>\n",
              "      <td>2</td>\n",
              "      <td>4</td>\n",
              "      <td>...</td>\n",
              "      <td>4</td>\n",
              "      <td>4</td>\n",
              "      <td>4.0</td>\n",
              "      <td>1</td>\n",
              "      <td>5.0</td>\n",
              "      <td>1</td>\n",
              "      <td>2</td>\n",
              "      <td>1</td>\n",
              "      <td>0.0</td>\n",
              "      <td>2021</td>\n",
              "    </tr>\n",
              "    <tr>\n",
              "      <th>1</th>\n",
              "      <td>Afghanistan</td>\n",
              "      <td>AFG</td>\n",
              "      <td>South Asia</td>\n",
              "      <td>22647496.0</td>\n",
              "      <td>180724554</td>\n",
              "      <td>0.497408</td>\n",
              "      <td>2</td>\n",
              "      <td>55.0</td>\n",
              "      <td>1</td>\n",
              "      <td>3</td>\n",
              "      <td>...</td>\n",
              "      <td>4</td>\n",
              "      <td>4</td>\n",
              "      <td>2.0</td>\n",
              "      <td>4</td>\n",
              "      <td>5.0</td>\n",
              "      <td>1</td>\n",
              "      <td>2</td>\n",
              "      <td>0</td>\n",
              "      <td>0.0</td>\n",
              "      <td>2021</td>\n",
              "    </tr>\n",
              "    <tr>\n",
              "      <th>2</th>\n",
              "      <td>Afghanistan</td>\n",
              "      <td>AFG</td>\n",
              "      <td>South Asia</td>\n",
              "      <td>22647496.0</td>\n",
              "      <td>130686682</td>\n",
              "      <td>0.650431</td>\n",
              "      <td>1</td>\n",
              "      <td>15.0</td>\n",
              "      <td>1</td>\n",
              "      <td>2</td>\n",
              "      <td>...</td>\n",
              "      <td>4</td>\n",
              "      <td>4</td>\n",
              "      <td>4.0</td>\n",
              "      <td>4</td>\n",
              "      <td>3.0</td>\n",
              "      <td>2</td>\n",
              "      <td>2</td>\n",
              "      <td>0</td>\n",
              "      <td>0.0</td>\n",
              "      <td>2021</td>\n",
              "    </tr>\n",
              "    <tr>\n",
              "      <th>3</th>\n",
              "      <td>Afghanistan</td>\n",
              "      <td>AFG</td>\n",
              "      <td>South Asia</td>\n",
              "      <td>22647496.0</td>\n",
              "      <td>142646649</td>\n",
              "      <td>0.991862</td>\n",
              "      <td>2</td>\n",
              "      <td>23.0</td>\n",
              "      <td>1</td>\n",
              "      <td>4</td>\n",
              "      <td>...</td>\n",
              "      <td>4</td>\n",
              "      <td>4</td>\n",
              "      <td>2.0</td>\n",
              "      <td>4</td>\n",
              "      <td>5.0</td>\n",
              "      <td>1</td>\n",
              "      <td>2</td>\n",
              "      <td>0</td>\n",
              "      <td>0.0</td>\n",
              "      <td>2021</td>\n",
              "    </tr>\n",
              "    <tr>\n",
              "      <th>4</th>\n",
              "      <td>Afghanistan</td>\n",
              "      <td>AFG</td>\n",
              "      <td>South Asia</td>\n",
              "      <td>22647496.0</td>\n",
              "      <td>199055310</td>\n",
              "      <td>0.554940</td>\n",
              "      <td>1</td>\n",
              "      <td>46.0</td>\n",
              "      <td>1</td>\n",
              "      <td>1</td>\n",
              "      <td>...</td>\n",
              "      <td>4</td>\n",
              "      <td>4</td>\n",
              "      <td>4.0</td>\n",
              "      <td>4</td>\n",
              "      <td>5.0</td>\n",
              "      <td>2</td>\n",
              "      <td>2</td>\n",
              "      <td>0</td>\n",
              "      <td>0.0</td>\n",
              "      <td>2021</td>\n",
              "    </tr>\n",
              "  </tbody>\n",
              "</table>\n",
              "<p>5 rows × 128 columns</p>\n",
              "</div>\n",
              "    <div class=\"colab-df-buttons\">\n",
              "\n",
              "  <div class=\"colab-df-container\">\n",
              "    <button class=\"colab-df-convert\" onclick=\"convertToInteractive('df-76c2d5c6-f0f5-4a85-a0d7-1564a3b3e4b5')\"\n",
              "            title=\"Convert this dataframe to an interactive table.\"\n",
              "            style=\"display:none;\">\n",
              "\n",
              "  <svg xmlns=\"http://www.w3.org/2000/svg\" height=\"24px\" viewBox=\"0 -960 960 960\">\n",
              "    <path d=\"M120-120v-720h720v720H120Zm60-500h600v-160H180v160Zm220 220h160v-160H400v160Zm0 220h160v-160H400v160ZM180-400h160v-160H180v160Zm440 0h160v-160H620v160ZM180-180h160v-160H180v160Zm440 0h160v-160H620v160Z\"/>\n",
              "  </svg>\n",
              "    </button>\n",
              "\n",
              "  <style>\n",
              "    .colab-df-container {\n",
              "      display:flex;\n",
              "      gap: 12px;\n",
              "    }\n",
              "\n",
              "    .colab-df-convert {\n",
              "      background-color: #E8F0FE;\n",
              "      border: none;\n",
              "      border-radius: 50%;\n",
              "      cursor: pointer;\n",
              "      display: none;\n",
              "      fill: #1967D2;\n",
              "      height: 32px;\n",
              "      padding: 0 0 0 0;\n",
              "      width: 32px;\n",
              "    }\n",
              "\n",
              "    .colab-df-convert:hover {\n",
              "      background-color: #E2EBFA;\n",
              "      box-shadow: 0px 1px 2px rgba(60, 64, 67, 0.3), 0px 1px 3px 1px rgba(60, 64, 67, 0.15);\n",
              "      fill: #174EA6;\n",
              "    }\n",
              "\n",
              "    .colab-df-buttons div {\n",
              "      margin-bottom: 4px;\n",
              "    }\n",
              "\n",
              "    [theme=dark] .colab-df-convert {\n",
              "      background-color: #3B4455;\n",
              "      fill: #D2E3FC;\n",
              "    }\n",
              "\n",
              "    [theme=dark] .colab-df-convert:hover {\n",
              "      background-color: #434B5C;\n",
              "      box-shadow: 0px 1px 3px 1px rgba(0, 0, 0, 0.15);\n",
              "      filter: drop-shadow(0px 1px 2px rgba(0, 0, 0, 0.3));\n",
              "      fill: #FFFFFF;\n",
              "    }\n",
              "  </style>\n",
              "\n",
              "    <script>\n",
              "      const buttonEl =\n",
              "        document.querySelector('#df-76c2d5c6-f0f5-4a85-a0d7-1564a3b3e4b5 button.colab-df-convert');\n",
              "      buttonEl.style.display =\n",
              "        google.colab.kernel.accessAllowed ? 'block' : 'none';\n",
              "\n",
              "      async function convertToInteractive(key) {\n",
              "        const element = document.querySelector('#df-76c2d5c6-f0f5-4a85-a0d7-1564a3b3e4b5');\n",
              "        const dataTable =\n",
              "          await google.colab.kernel.invokeFunction('convertToInteractive',\n",
              "                                                    [key], {});\n",
              "        if (!dataTable) return;\n",
              "\n",
              "        const docLinkHtml = 'Like what you see? Visit the ' +\n",
              "          '<a target=\"_blank\" href=https://colab.research.google.com/notebooks/data_table.ipynb>data table notebook</a>'\n",
              "          + ' to learn more about interactive tables.';\n",
              "        element.innerHTML = '';\n",
              "        dataTable['output_type'] = 'display_data';\n",
              "        await google.colab.output.renderOutput(dataTable, element);\n",
              "        const docLink = document.createElement('div');\n",
              "        docLink.innerHTML = docLinkHtml;\n",
              "        element.appendChild(docLink);\n",
              "      }\n",
              "    </script>\n",
              "  </div>\n",
              "\n",
              "\n",
              "<div id=\"df-3ed0d299-e9dc-4c56-b8eb-a107e13bd439\">\n",
              "  <button class=\"colab-df-quickchart\" onclick=\"quickchart('df-3ed0d299-e9dc-4c56-b8eb-a107e13bd439')\"\n",
              "            title=\"Suggest charts\"\n",
              "            style=\"display:none;\">\n",
              "\n",
              "<svg xmlns=\"http://www.w3.org/2000/svg\" height=\"24px\"viewBox=\"0 0 24 24\"\n",
              "     width=\"24px\">\n",
              "    <g>\n",
              "        <path d=\"M19 3H5c-1.1 0-2 .9-2 2v14c0 1.1.9 2 2 2h14c1.1 0 2-.9 2-2V5c0-1.1-.9-2-2-2zM9 17H7v-7h2v7zm4 0h-2V7h2v10zm4 0h-2v-4h2v4z\"/>\n",
              "    </g>\n",
              "</svg>\n",
              "  </button>\n",
              "\n",
              "<style>\n",
              "  .colab-df-quickchart {\n",
              "      --bg-color: #E8F0FE;\n",
              "      --fill-color: #1967D2;\n",
              "      --hover-bg-color: #E2EBFA;\n",
              "      --hover-fill-color: #174EA6;\n",
              "      --disabled-fill-color: #AAA;\n",
              "      --disabled-bg-color: #DDD;\n",
              "  }\n",
              "\n",
              "  [theme=dark] .colab-df-quickchart {\n",
              "      --bg-color: #3B4455;\n",
              "      --fill-color: #D2E3FC;\n",
              "      --hover-bg-color: #434B5C;\n",
              "      --hover-fill-color: #FFFFFF;\n",
              "      --disabled-bg-color: #3B4455;\n",
              "      --disabled-fill-color: #666;\n",
              "  }\n",
              "\n",
              "  .colab-df-quickchart {\n",
              "    background-color: var(--bg-color);\n",
              "    border: none;\n",
              "    border-radius: 50%;\n",
              "    cursor: pointer;\n",
              "    display: none;\n",
              "    fill: var(--fill-color);\n",
              "    height: 32px;\n",
              "    padding: 0;\n",
              "    width: 32px;\n",
              "  }\n",
              "\n",
              "  .colab-df-quickchart:hover {\n",
              "    background-color: var(--hover-bg-color);\n",
              "    box-shadow: 0 1px 2px rgba(60, 64, 67, 0.3), 0 1px 3px 1px rgba(60, 64, 67, 0.15);\n",
              "    fill: var(--button-hover-fill-color);\n",
              "  }\n",
              "\n",
              "  .colab-df-quickchart-complete:disabled,\n",
              "  .colab-df-quickchart-complete:disabled:hover {\n",
              "    background-color: var(--disabled-bg-color);\n",
              "    fill: var(--disabled-fill-color);\n",
              "    box-shadow: none;\n",
              "  }\n",
              "\n",
              "  .colab-df-spinner {\n",
              "    border: 2px solid var(--fill-color);\n",
              "    border-color: transparent;\n",
              "    border-bottom-color: var(--fill-color);\n",
              "    animation:\n",
              "      spin 1s steps(1) infinite;\n",
              "  }\n",
              "\n",
              "  @keyframes spin {\n",
              "    0% {\n",
              "      border-color: transparent;\n",
              "      border-bottom-color: var(--fill-color);\n",
              "      border-left-color: var(--fill-color);\n",
              "    }\n",
              "    20% {\n",
              "      border-color: transparent;\n",
              "      border-left-color: var(--fill-color);\n",
              "      border-top-color: var(--fill-color);\n",
              "    }\n",
              "    30% {\n",
              "      border-color: transparent;\n",
              "      border-left-color: var(--fill-color);\n",
              "      border-top-color: var(--fill-color);\n",
              "      border-right-color: var(--fill-color);\n",
              "    }\n",
              "    40% {\n",
              "      border-color: transparent;\n",
              "      border-right-color: var(--fill-color);\n",
              "      border-top-color: var(--fill-color);\n",
              "    }\n",
              "    60% {\n",
              "      border-color: transparent;\n",
              "      border-right-color: var(--fill-color);\n",
              "    }\n",
              "    80% {\n",
              "      border-color: transparent;\n",
              "      border-right-color: var(--fill-color);\n",
              "      border-bottom-color: var(--fill-color);\n",
              "    }\n",
              "    90% {\n",
              "      border-color: transparent;\n",
              "      border-bottom-color: var(--fill-color);\n",
              "    }\n",
              "  }\n",
              "</style>\n",
              "\n",
              "  <script>\n",
              "    async function quickchart(key) {\n",
              "      const quickchartButtonEl =\n",
              "        document.querySelector('#' + key + ' button');\n",
              "      quickchartButtonEl.disabled = true;  // To prevent multiple clicks.\n",
              "      quickchartButtonEl.classList.add('colab-df-spinner');\n",
              "      try {\n",
              "        const charts = await google.colab.kernel.invokeFunction(\n",
              "            'suggestCharts', [key], {});\n",
              "      } catch (error) {\n",
              "        console.error('Error during call to suggestCharts:', error);\n",
              "      }\n",
              "      quickchartButtonEl.classList.remove('colab-df-spinner');\n",
              "      quickchartButtonEl.classList.add('colab-df-quickchart-complete');\n",
              "    }\n",
              "    (() => {\n",
              "      let quickchartButtonEl =\n",
              "        document.querySelector('#df-3ed0d299-e9dc-4c56-b8eb-a107e13bd439 button');\n",
              "      quickchartButtonEl.style.display =\n",
              "        google.colab.kernel.accessAllowed ? 'block' : 'none';\n",
              "    })();\n",
              "  </script>\n",
              "</div>\n",
              "\n",
              "    </div>\n",
              "  </div>\n"
            ],
            "application/vnd.google.colaboratory.intrinsic+json": {
              "type": "dataframe",
              "variable_name": "data"
            }
          },
          "metadata": {},
          "execution_count": 4
        }
      ]
    },
    {
      "cell_type": "code",
      "source": [
        "data.info()"
      ],
      "metadata": {
        "colab": {
          "base_uri": "https://localhost:8080/"
        },
        "id": "SUq3FSHGWdgc",
        "outputId": "74697d2b-2557-4c2f-d420-d57006ca6960"
      },
      "execution_count": 5,
      "outputs": [
        {
          "output_type": "stream",
          "name": "stdout",
          "text": [
            "<class 'pandas.core.frame.DataFrame'>\n",
            "RangeIndex: 143887 entries, 0 to 143886\n",
            "Columns: 128 entries, economy to year\n",
            "dtypes: float64(90), int64(35), object(3)\n",
            "memory usage: 140.5+ MB\n"
          ]
        }
      ]
    },
    {
      "cell_type": "code",
      "source": [
        "data.shape"
      ],
      "metadata": {
        "colab": {
          "base_uri": "https://localhost:8080/"
        },
        "id": "NTraSPro7L2T",
        "outputId": "e72a6c4c-6575-4050-ae62-06596fff1511"
      },
      "execution_count": 6,
      "outputs": [
        {
          "output_type": "execute_result",
          "data": {
            "text/plain": [
              "(143887, 128)"
            ]
          },
          "metadata": {},
          "execution_count": 6
        }
      ]
    },
    {
      "cell_type": "code",
      "source": [
        "data.index"
      ],
      "metadata": {
        "colab": {
          "base_uri": "https://localhost:8080/"
        },
        "id": "MCnbZ2H1U7A5",
        "outputId": "cffad806-a8e9-482f-9bf9-4392146fcd2e"
      },
      "execution_count": 7,
      "outputs": [
        {
          "output_type": "execute_result",
          "data": {
            "text/plain": [
              "RangeIndex(start=0, stop=143887, step=1)"
            ]
          },
          "metadata": {},
          "execution_count": 7
        }
      ]
    },
    {
      "cell_type": "code",
      "source": [
        "data.columns"
      ],
      "metadata": {
        "colab": {
          "base_uri": "https://localhost:8080/"
        },
        "id": "jZXg33mRU8wS",
        "outputId": "83771f8c-f1ae-49d8-9d1d-75f9df06a41f"
      },
      "execution_count": 8,
      "outputs": [
        {
          "output_type": "execute_result",
          "data": {
            "text/plain": [
              "Index(['economy', 'economycode', 'regionwb', 'pop_adult', 'wpid_random', 'wgt',\n",
              "       'female', 'age', 'educ', 'inc_q',\n",
              "       ...\n",
              "       'receive_transfers', 'receive_pension', 'receive_agriculture',\n",
              "       'pay_utilities', 'remittances', 'mobileowner', 'internetaccess',\n",
              "       'anydigpayment', 'merchantpay_dig', 'year'],\n",
              "      dtype='object', length=128)"
            ]
          },
          "metadata": {},
          "execution_count": 8
        }
      ]
    },
    {
      "cell_type": "markdown",
      "source": [
        "### Checking for missing values"
      ],
      "metadata": {
        "id": "pfFP58zFWH2Y"
      }
    },
    {
      "cell_type": "code",
      "source": [
        "# Do to the size of the Dataset we filter columns with missing values greater than 0. We look further into all the\n",
        "# missing values with pd.set_option('display.max_rows', None) was used afterwards using pd.reset_option('display.max_rows')\n",
        "pd.reset_option('display.max_rows')\n",
        "missing_data = data.isnull().sum()\n",
        "missing_data[missing_data > 0]"
      ],
      "metadata": {
        "colab": {
          "base_uri": "https://localhost:8080/",
          "height": 458
        },
        "id": "4FCh1TGlWLTL",
        "outputId": "7447684f-d51d-452b-bc75-7b3416309c89"
      },
      "execution_count": 9,
      "outputs": [
        {
          "output_type": "execute_result",
          "data": {
            "text/plain": [
              "regionwb                 1000\n",
              "age                       467\n",
              "emp_in                   3502\n",
              "urbanicity_f2f          68243\n",
              "account_mob             61181\n",
              "                        ...  \n",
              "fin45_1                 33106\n",
              "fin45_1_China          140387\n",
              "receive_agriculture     29606\n",
              "remittances             29606\n",
              "merchantpay_dig         29606\n",
              "Length: 89, dtype: int64"
            ],
            "text/html": [
              "<div>\n",
              "<style scoped>\n",
              "    .dataframe tbody tr th:only-of-type {\n",
              "        vertical-align: middle;\n",
              "    }\n",
              "\n",
              "    .dataframe tbody tr th {\n",
              "        vertical-align: top;\n",
              "    }\n",
              "\n",
              "    .dataframe thead th {\n",
              "        text-align: right;\n",
              "    }\n",
              "</style>\n",
              "<table border=\"1\" class=\"dataframe\">\n",
              "  <thead>\n",
              "    <tr style=\"text-align: right;\">\n",
              "      <th></th>\n",
              "      <th>0</th>\n",
              "    </tr>\n",
              "  </thead>\n",
              "  <tbody>\n",
              "    <tr>\n",
              "      <th>regionwb</th>\n",
              "      <td>1000</td>\n",
              "    </tr>\n",
              "    <tr>\n",
              "      <th>age</th>\n",
              "      <td>467</td>\n",
              "    </tr>\n",
              "    <tr>\n",
              "      <th>emp_in</th>\n",
              "      <td>3502</td>\n",
              "    </tr>\n",
              "    <tr>\n",
              "      <th>urbanicity_f2f</th>\n",
              "      <td>68243</td>\n",
              "    </tr>\n",
              "    <tr>\n",
              "      <th>account_mob</th>\n",
              "      <td>61181</td>\n",
              "    </tr>\n",
              "    <tr>\n",
              "      <th>...</th>\n",
              "      <td>...</td>\n",
              "    </tr>\n",
              "    <tr>\n",
              "      <th>fin45_1</th>\n",
              "      <td>33106</td>\n",
              "    </tr>\n",
              "    <tr>\n",
              "      <th>fin45_1_China</th>\n",
              "      <td>140387</td>\n",
              "    </tr>\n",
              "    <tr>\n",
              "      <th>receive_agriculture</th>\n",
              "      <td>29606</td>\n",
              "    </tr>\n",
              "    <tr>\n",
              "      <th>remittances</th>\n",
              "      <td>29606</td>\n",
              "    </tr>\n",
              "    <tr>\n",
              "      <th>merchantpay_dig</th>\n",
              "      <td>29606</td>\n",
              "    </tr>\n",
              "  </tbody>\n",
              "</table>\n",
              "<p>89 rows × 1 columns</p>\n",
              "</div><br><label><b>dtype:</b> int64</label>"
            ]
          },
          "metadata": {},
          "execution_count": 9
        }
      ]
    },
    {
      "cell_type": "code",
      "source": [
        "# Filtering rows where 'regionwb' is missing\n",
        "missing_region = data[data['regionwb'].isnull()]\n",
        "\n",
        "# Groupby 'economy' and count the number of missing 'regionwb' for each country\n",
        "missing_by_country = missing_region.groupby('economy').size()\n",
        "\n",
        "print(missing_by_country)"
      ],
      "metadata": {
        "colab": {
          "base_uri": "https://localhost:8080/"
        },
        "id": "8kC9YNm5uz3R",
        "outputId": "9e0817d5-cc5f-40bb-cb9f-02cb17c49b84"
      },
      "execution_count": 17,
      "outputs": [
        {
          "output_type": "stream",
          "name": "stdout",
          "text": [
            "economy\n",
            "Taiwan, China    1000\n",
            "dtype: int64\n"
          ]
        }
      ]
    },
    {
      "cell_type": "markdown",
      "source": [
        "Its clear that there are significant missing values in the dataset. However, many of these missing values result from certain follow up questions not being asked to all participants, which accounts for the bulk of the missing data. Additionally, we notice some missing information regarding the age, region, and employment status of some participants. Since the missing values in these key categories (age, and workforce status) is quite small compared to the dataset size, it has been decided to remove these rows as we don't want to simulate age or workforce status. For the missing data in region we will use the economy/country column to fill in the correct region\n",
        "\n",
        "The columns with a high percentage of missing data (up to 90%) were removed, as they generally represent the very niche or specific follow-up questions. This simplification streamlines the dataset without affecting its overall quality, as our focus is on a broader analysis rather than specific topics like how domestic remittances were received instead looking at general saving habits as an example"
      ],
      "metadata": {
        "id": "FZ8xfbYkpPSt"
      }
    },
    {
      "cell_type": "code",
      "source": [
        "# Filtering rows where 'regionwb' is missing\n",
        "missing_region = data[data['regionwb'].isnull()]\n",
        "print(missing_region)\n",
        "\n",
        "# Groupby 'economy' and count the number of missing 'regionwb' for each country\n",
        "missing_by_country = missing_region.groupby('economy').size()\n",
        "print(missing_by_country)\n",
        "\n",
        "# We find out its Taiwan, China that is missing the region value, so we add this\n",
        "data.loc[data['economy'] == 'Taiwan, China', 'regionwb'] = 'East Asia & Pacific'"
      ],
      "metadata": {
        "colab": {
          "base_uri": "https://localhost:8080/"
        },
        "id": "wCgQb424vTzT",
        "outputId": "91ad792f-e6ff-484e-a56b-56f5e14956c1"
      },
      "execution_count": 28,
      "outputs": [
        {
          "output_type": "stream",
          "name": "stdout",
          "text": [
            "Empty DataFrame\n",
            "Columns: [economy, economycode, regionwb, pop_adult, wpid_random, wgt, female, age, educ, inc_q, emp_in, urbanicity_f2f, account, account_fin, account_mob, fin1_1a, fin1_1b, fin2, fin4, fin4a, fin5, fin6, fin7, fin8, fin8a, fin8b, fin9, fin9a, fin10, fin10_1a, fin10_1b, fin10_1c, fin10_1d, fin10_1e, fin10a, fin10b, fin11_1, fin11a, fin11b, fin11c, fin11d, fin11e, fin11f, fin11g, fin11h, fin13_1a, fin13_1b, fin13_1c, fin13_1d, fin13_1e, fin13_1f, fin13a, fin13b, fin13c, fin13d, fin14_1, fin14_2, fin14_2_China, fin14a, fin14a1, fin14b, fin14c, fin14c_2, fin14c_2_China, fin16, fin17a, fin17a1, fin17b, fin20, fin22a, fin22b, fin22c, fin24, fin24a, fin24b, fin26, fin27_1, fin27c1, fin27c2, fin28, fin29_1, fin29c1, fin29c2, fin30, fin31a, fin31b, fin31b1, fin31b1_China, fin31c, fin32, fin33, fin34a, fin34b, fin34d, fin34e, fin35, fin37, fin38, fin39a, fin39b, ...]\n",
            "Index: []\n",
            "\n",
            "[0 rows x 128 columns]\n",
            "Series([], dtype: int64)\n"
          ]
        }
      ]
    },
    {
      "cell_type": "code",
      "source": [
        "# Removing the rows with missing values in 'regionwb', 'age', and 'emp_in'\n",
        "data_cleaned = data.dropna(subset=['age', 'emp_in']).copy()\n",
        "\n",
        "# Removing columns with more than 4000 missing values\n",
        "missing_threshold = 4000\n",
        "cols_to_drop = data_cleaned.columns[data_cleaned.isnull().sum() > missing_threshold]\n",
        "\n",
        "# Dropping the columns\n",
        "data_cleaned = data_cleaned.drop(columns=cols_to_drop)\n",
        "\n",
        "# Cleaned dataset info\n",
        "data_cleaned.info()"
      ],
      "metadata": {
        "colab": {
          "base_uri": "https://localhost:8080/"
        },
        "id": "rKd6nl2Xort3",
        "outputId": "9f5e9ff4-4ed5-429f-f309-7470b5e10040"
      },
      "execution_count": 29,
      "outputs": [
        {
          "output_type": "stream",
          "name": "stdout",
          "text": [
            "<class 'pandas.core.frame.DataFrame'>\n",
            "Index: 139972 entries, 0 to 143886\n",
            "Data columns (total 42 columns):\n",
            " #   Column             Non-Null Count   Dtype  \n",
            "---  ------             --------------   -----  \n",
            " 0   economy            139972 non-null  object \n",
            " 1   economycode        139972 non-null  object \n",
            " 2   regionwb           139972 non-null  object \n",
            " 3   pop_adult          139972 non-null  float64\n",
            " 4   wpid_random        139972 non-null  int64  \n",
            " 5   wgt                139972 non-null  float64\n",
            " 6   female             139972 non-null  int64  \n",
            " 7   age                139972 non-null  float64\n",
            " 8   educ               139972 non-null  int64  \n",
            " 9   inc_q              139972 non-null  int64  \n",
            " 10  emp_in             139972 non-null  float64\n",
            " 11  account            139972 non-null  int64  \n",
            " 12  account_fin        139972 non-null  int64  \n",
            " 13  fin2               139972 non-null  int64  \n",
            " 14  fin14_1            139972 non-null  int64  \n",
            " 15  fin14a             139972 non-null  int64  \n",
            " 16  fin14a1            139972 non-null  int64  \n",
            " 17  fin14b             139972 non-null  int64  \n",
            " 18  fin16              139972 non-null  int64  \n",
            " 19  fin17a             139972 non-null  int64  \n",
            " 20  fin20              139972 non-null  int64  \n",
            " 21  fin22a             139972 non-null  int64  \n",
            " 22  fin22b             139972 non-null  int64  \n",
            " 23  fin24              139972 non-null  int64  \n",
            " 24  fin30              139972 non-null  int64  \n",
            " 25  fin32              139972 non-null  int64  \n",
            " 26  fin37              139972 non-null  int64  \n",
            " 27  fin38              139972 non-null  int64  \n",
            " 28  fin44a             139972 non-null  int64  \n",
            " 29  fin44b             139972 non-null  int64  \n",
            " 30  fin44c             139972 non-null  int64  \n",
            " 31  fin44d             139972 non-null  int64  \n",
            " 32  saved              139972 non-null  int64  \n",
            " 33  borrowed           139972 non-null  int64  \n",
            " 34  receive_wages      139972 non-null  int64  \n",
            " 35  receive_transfers  139972 non-null  int64  \n",
            " 36  receive_pension    139972 non-null  int64  \n",
            " 37  pay_utilities      139972 non-null  int64  \n",
            " 38  mobileowner        139972 non-null  int64  \n",
            " 39  internetaccess     139972 non-null  int64  \n",
            " 40  anydigpayment      139972 non-null  int64  \n",
            " 41  year               139972 non-null  int64  \n",
            "dtypes: float64(4), int64(35), object(3)\n",
            "memory usage: 45.9+ MB\n"
          ]
        }
      ]
    },
    {
      "cell_type": "markdown",
      "source": [
        "**This leaves us with a dataset of 139972 rows and 42 columns with zero missing values**.\n",
        "\n",
        "**The remaining columns signify the following information which we will be working with to explore the dataset further:**\n",
        "\n",
        "0. economy: The name of the country or economy.\n",
        "1. economycode: ISO 3-digit code representing each economy.\n",
        "2. regionwb: World Bank region classification (e.g., Sub-Saharan Africa, East\n",
        "    Asia, etc.).\n",
        "3.  pop_adult: The population of adults (aged 15+) in the economy.\n",
        "4.  wpid_random: A unique identifier for each respondent in the dataset.\n",
        "5.  wgt: Survey weight for each respondent, used to make the sample\n",
        "    representative of the population.\n",
        "6.  female: Gender of the respondent (1 if female, 2 if male).\n",
        "7.  age: Age of the respondent.\n",
        "8.  educ: Respondent’s education level form level 1 to 3\n",
        "9.  inc_q: Income quintile of the respondent’s household.\n",
        "10. emp_in: Employment status of the respondent.\n",
        "11. account: Whether the respondent has an account at a financial institution\n",
        "    or with a mobile money service provider.\n",
        "12. account_fin: Whether the respondent has an account at a formal financial\n",
        "    institution.\n",
        "13. fin2: Has a debit card\n",
        "14. fin14_1: Whether the respondent used mobile money.\n",
        "15. fin14a: Made bill payments online using the Internet\n",
        "16. fin14a1: Send money to a relative or friend online\n",
        "    using the Internet\n",
        "17. fin14b: Bought something online using the Internet\n",
        "18. fin16: Saved for old age\n",
        "19. fin17a: Saved using an account at a financial\n",
        "    institution\n",
        "20. fin20: Borrowed for medical purposes\n",
        "21. fin22a: Borrowed from a financial institution\n",
        "22. fin22b: Borrowed from family or friends\n",
        "23. fin24: Main source of emergency funds in 30 days\n",
        "24. fin30: Paid a utility bill\n",
        "25. fin32: Received wage payments\n",
        "26. fin37: Received a government transfer\n",
        "27. fin38: Received a government pension\n",
        "28. fin44a: Financially worried: old age\n",
        "29. fin44b: Financially worried: medical cost\n",
        "30. fin44c: Financially worried: bills\n",
        "31. fin44d: Financially worried: education\n",
        "32. saved: Saved money in the past 12 months.\n",
        "33. borrowed: Borrowed money in the past 12 months.\n",
        "34. receive_wages: Received a wage payment and method\n",
        "35. receive_transfers: Received government transfers or aid payments and method\n",
        "36. receive_pension: Received government pension payments. and method\n",
        "37. pay_utilities: Paid utility bills and method\n",
        "38. mobileowner: Whether the respondent owns a mobile phone.\n",
        "39. internetaccess: Whether the respondent has access to the internet.\n",
        "40. anydigpayment: Whether the respondent made any digital payment.\n",
        "41. year: The year of the data collection"
      ],
      "metadata": {
        "id": "5eH3uvFNmH76"
      }
    },
    {
      "cell_type": "markdown",
      "source": [
        "## Business Context\n",
        "\n",
        "Now that the data has been thoroughly cleaned, we have a clearer understanding of the columns, allowing us to prepare the dataset for use in a business context. Given the nature of the data, which includes information such as respondent education level, income, savings, borrowing behavior, and access to financial services, there are several ways this dataset could be used in a business environment or by policymakers to assess the economic conditions of different regions/economies with a focus on financial inclusion.\n",
        "\n",
        "Applications which we will examine further:  \n",
        "\n",
        "**Market Segmentation:** Businesses can use the data to identify different customer segments based on education, income levels, and financial behaviors such as borrowing, saving, or receiving wages. For example, a financial institution could target specific products to individuals based on their likelihood to save or borrow.\n",
        "\n",
        "**Optimizing Digital Payment Services in Underserved Regions:**  Business can identify regions/economies where mobile ownership is high but digital payment adoption is low.\n",
        "\n",
        "**Financial Inclusion Strategies:** Companies involved in promoting financial inclusion can use the data to identify underserved populations.\n",
        "\n",
        "**General Economic Analysis:** This dataset can also be used by businesses or policymakers to assess the economic conditions of different regions.\n",
        "\n",
        "\n",
        "At present, many of the answers in the dataset are represented as integers, which correspond to qualitative information. For example, the \"educ\" column (education level) uses integers to represent levels of education:\n",
        "\n",
        "1 = Primary school or less\n",
        "2 = Secondary school\n",
        "3 = Tertiary education or more.\n",
        "\n",
        "We are aware of these categorical representations and will ensure that their actual meanings (e.g., \"Primary school,\" \"Secondary school,\" etc.) are included as string labels when creating visualizations.\n",
        "\n"
      ],
      "metadata": {
        "id": "8yp5-nm61-0f"
      }
    },
    {
      "cell_type": "markdown",
      "source": [
        "## 2. Descriptive Statistics"
      ],
      "metadata": {
        "id": "zjcvjKpD7sTu"
      }
    },
    {
      "cell_type": "code",
      "source": [
        "# Group by 'regionwb' and count the number of occurrences\n",
        "region_counts = data['regionwb'].value_counts()\n",
        "\n",
        "# Create a pie chart\n",
        "plt.figure(figsize=(8, 8))\n",
        "plt.pie(region_counts, labels=region_counts.index, autopct='%1.1f%%', startangle=140)\n",
        "\n",
        "# Add a title\n",
        "plt.title('Distribution of Respondents by Region')\n",
        "\n",
        "# Show the plot\n",
        "plt.show()"
      ],
      "metadata": {
        "colab": {
          "base_uri": "https://localhost:8080/",
          "height": 675
        },
        "id": "_a741Dgy7qAa",
        "outputId": "d81ba2e5-a6e4-4120-a1f6-7dbfb43bf954"
      },
      "execution_count": 31,
      "outputs": [
        {
          "output_type": "display_data",
          "data": {
            "text/plain": [
              "<Figure size 800x800 with 1 Axes>"
            ],
            "image/png": "[encoded data removed]"
          },
          "metadata": {}
        }
      ]
    },
    {
      "cell_type": "code",
      "source": [
        "# Filter the dataset to only include \"High income\" region\n",
        "high_income_countries = data[data['regionwb'] == 'High income']\n",
        "\n",
        "# Get the unique list of countries in the \"High income\" category\n",
        "high_income_country_list = high_income_countries['economy'].unique()\n",
        "\n",
        "# Count respondents from each high-income country\n",
        "high_income_country_counts = high_income_countries['economy'].value_counts()\n",
        "\n",
        "# Display the counts\n",
        "print(high_income_country_counts)"
      ],
      "metadata": {
        "colab": {
          "base_uri": "https://localhost:8080/"
        },
        "id": "DLi5pukmEYCL",
        "outputId": "4ddc6fb2-5cec-4a20-e184-bb88c36e1d22"
      },
      "execution_count": 39,
      "outputs": [
        {
          "output_type": "stream",
          "name": "stdout",
          "text": [
            "economy\n",
            "Saudi Arabia            1019\n",
            "Cyprus                  1019\n",
            "Belgium                 1012\n",
            "Korea, Rep.             1011\n",
            "Japan                   1010\n",
            "Lithuania               1009\n",
            "Canada                  1007\n",
            "United States           1007\n",
            "Latvia                  1006\n",
            "Sweden                  1006\n",
            "Czechia                 1005\n",
            "Slovak Republic         1005\n",
            "Hong Kong SAR, China    1003\n",
            "Hungary                 1003\n",
            "Greece                  1003\n",
            "Denmark                 1002\n",
            "Portugal                1002\n",
            "Norway                  1001\n",
            "Estonia                 1001\n",
            "Croatia                 1001\n",
            "Poland                  1001\n",
            "Switzerland             1000\n",
            "Spain                   1000\n",
            "Slovenia                1000\n",
            "United Arab Emirates    1000\n",
            "Singapore               1000\n",
            "United Kingdom          1000\n",
            "Australia               1000\n",
            "New Zealand             1000\n",
            "Netherlands             1000\n",
            "Malta                   1000\n",
            "Austria                 1000\n",
            "Italy                   1000\n",
            "Israel                  1000\n",
            "Ireland                 1000\n",
            "Germany                 1000\n",
            "France                  1000\n",
            "Finland                 1000\n",
            "Chile                   1000\n",
            "Uruguay                 1000\n",
            "Iceland                  502\n",
            "Name: count, dtype: int64\n"
          ]
        }
      ]
    }
  ]
}