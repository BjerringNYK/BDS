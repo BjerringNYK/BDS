{
  "nbformat": 4,
  "nbformat_minor": 0,
  "metadata": {
    "colab": {
      "provenance": [],
      "authorship_tag": "ABX9TyNheos0mYPPf4+LvjKwKwhw",
      "include_colab_link": true
    },
    "kernelspec": {
      "name": "python3",
      "display_name": "Python 3"
    },
    "language_info": {
      "name": "python"
    }
  },
  "cells": [
    {
      "cell_type": "markdown",
      "metadata": {
        "id": "view-in-github",
        "colab_type": "text"
      },
      "source": [
        "<a href=\"https://colab.research.google.com/github/BjerringNYK/BDS/blob/main/FirstEDA.ipynb\" target=\"_parent\"><img src=\"https://colab.research.google.com/assets/colab-badge.svg\" alt=\"Open In Colab\"/></a>"
      ]
    },
    {
      "cell_type": "markdown",
      "source": [
        "# Assignment 1: Exploratory Data Analysis (EDA) and Visualization\n"
      ],
      "metadata": {
        "id": "IgJrQdFNq8nW"
      }
    },
    {
      "cell_type": "markdown",
      "source": [
        "## FINDEX (Global Financial Index Microdata) and it's business context\n",
        "\n",
        "The Global Findex database is the most comprehensive dataset on adult financial behaviors worldwide, capturing insights into how individuals save, borrow, make payments, and manage financial risks. Initiated by the World Bank in 2011, the dataset is based on nationally representative surveys of over 150,000 adults across more than 140 economies. The 2021 edition provides updated indicators on the use of both formal and informal financial services.\n",
        "\n",
        "For this analysis, we will conduct an Exploratory Data Analysis (EDA) to uncover key patterns and trends in the financial behaviors of individuals globally. As this analysis is undertaken by a group of finance students with a strong interest in banking and personal finance, our focus will be on examining how different demographics access and use financial services across various economies. The insights drawn will help highlight potential areas of financial inclusion and opportunities for improving financial services globally.\n",
        "\n",
        "# **This is just a draft for what we could be writing to begin with**\n"
      ],
      "metadata": {
        "id": "qKgRYOzDsfA7"
      }
    },
    {
      "cell_type": "markdown",
      "source": [
        "## Data Cleaning and Manipulation"
      ],
      "metadata": {
        "id": "lHVrSBEP16wo"
      }
    },
    {
      "cell_type": "code",
      "source": [],
      "metadata": {
        "id": "wgpHEirf1-t_"
      },
      "execution_count": null,
      "outputs": []
    }
  ]
}