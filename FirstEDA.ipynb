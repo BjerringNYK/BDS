{
  "nbformat": 4,
  "nbformat_minor": 0,
  "metadata": {
    "colab": {
      "provenance": [],
      "authorship_tag": "ABX9TyO0WpePJ1eo8pdC3mqHWyPB",
      "include_colab_link": true
    },
    "kernelspec": {
      "name": "python3",
      "display_name": "Python 3"
    },
    "language_info": {
      "name": "python"
    }
  },
  "cells": [
    {
      "cell_type": "markdown",
      "metadata": {
        "id": "view-in-github",
        "colab_type": "text"
      },
      "source": [
        "<a href=\"https://colab.research.google.com/github/BjerringNYK/BDS/blob/main/FirstEDA.ipynb\" target=\"_parent\"><img src=\"https://colab.research.google.com/assets/colab-badge.svg\" alt=\"Open In Colab\"/></a>"
      ]
    },
    {
      "cell_type": "markdown",
      "source": [
        "# Assignment 1: Exploratory Data Analysis (EDA) and Visualization\n"
      ],
      "metadata": {
        "id": "IgJrQdFNq8nW"
      }
    },
    {
      "cell_type": "markdown",
      "source": [
        "## FINDEX (Global Financial Index Microdata) and it's business context\n",
        "\n",
        "The Global Findex database is the most comprehensive dataset on adult financial behaviors worldwide, capturing insights into how individuals save, borrow, make payments, and manage financial risks. Initiated by the World Bank in 2011, the dataset is based on nationally representative surveys of over 150,000 adults across more than 140 economies. The 2021 edition provides updated indicators on the use of both formal and informal financial services.\n",
        "\n",
        "For this analysis, we will conduct an Exploratory Data Analysis (EDA) to uncover key patterns and trends in the financial behaviors of individuals globally. As this analysis is undertaken by a group of finance students with a strong interest in banking and personal finance, our focus will be on examining how different demographics access and use financial services across various economies. The insights drawn will help highlight potential areas of financial inclusion and opportunities for improving financial services globally.\n",
        "\n",
        "# **This is just a draft for what we could be writing to begin with**\n"
      ],
      "metadata": {
        "id": "qKgRYOzDsfA7"
      }
    },
    {
      "cell_type": "markdown",
      "source": [
        "## Data Cleaning and Manipulation"
      ],
      "metadata": {
        "id": "lHVrSBEP16wo"
      }
    },
    {
      "cell_type": "code",
      "source": [
        "import pandas as pd\n",
        "import numpy as np\n",
        "import matplotlib.pyplot as plt\n",
        "import seaborn as sns\n",
        "\n",
        "# Initially, the data couldn’t be read with UTF-8 due to special characters. Using ChatGPT we found that latin-1 supports these characters, allowing for proper file decoding.\n",
        "# data = pd.read_csv('https://github.com/aaubs/ds-master/raw/main/data/assignments_datasets/FINDEX/WLD_2021_FINDEX_v03_M_csv.zip')"
      ],
      "metadata": {
        "id": "X6EDUnov9rnN"
      },
      "execution_count": 19,
      "outputs": []
    },
    {
      "source": [
        "# Reading the data using the raw URL on github\n",
        "data = pd.read_csv('https://github.com/aaubs/ds-master/raw/main/data/assignments_datasets/FINDEX/WLD_2021_FINDEX_v03_M_csv.zip', encoding='latin-1')"
      ],
      "cell_type": "code",
      "metadata": {
        "id": "yMUNWLY-6v1i"
      },
      "execution_count": 20,
      "outputs": []
    },
    {
      "cell_type": "markdown",
      "source": [
        "### Initial Data Structure Overview: Head, Info, Shape, Index, and Column Names"
      ],
      "metadata": {
        "id": "aaFSnGWwVOwe"
      }
    },
    {
      "cell_type": "code",
      "source": [
        "data.head()"
      ],
      "metadata": {
        "colab": {
          "base_uri": "https://localhost:8080/",
          "height": 256
        },
        "id": "9G5sCwa3V9wJ",
        "outputId": "e44fd026-f246-490e-bd87-e5158cf614e0"
      },
      "execution_count": 26,
      "outputs": [
        {
          "output_type": "execute_result",
          "data": {
            "text/plain": [
              "       economy economycode    regionwb   pop_adult  wpid_random       wgt  \\\n",
              "0  Afghanistan         AFG  South Asia  22647496.0    144274031  0.716416   \n",
              "1  Afghanistan         AFG  South Asia  22647496.0    180724554  0.497408   \n",
              "2  Afghanistan         AFG  South Asia  22647496.0    130686682  0.650431   \n",
              "3  Afghanistan         AFG  South Asia  22647496.0    142646649  0.991862   \n",
              "4  Afghanistan         AFG  South Asia  22647496.0    199055310  0.554940   \n",
              "\n",
              "   female   age  educ  inc_q  ...  receive_transfers  receive_pension  \\\n",
              "0       2  43.0     2      4  ...                  4                4   \n",
              "1       2  55.0     1      3  ...                  4                4   \n",
              "2       1  15.0     1      2  ...                  4                4   \n",
              "3       2  23.0     1      4  ...                  4                4   \n",
              "4       1  46.0     1      1  ...                  4                4   \n",
              "\n",
              "   receive_agriculture  pay_utilities  remittances  mobileowner  \\\n",
              "0                  4.0              1          5.0            1   \n",
              "1                  2.0              4          5.0            1   \n",
              "2                  4.0              4          3.0            2   \n",
              "3                  2.0              4          5.0            1   \n",
              "4                  4.0              4          5.0            2   \n",
              "\n",
              "   internetaccess  anydigpayment  merchantpay_dig  year  \n",
              "0               2              1              0.0  2021  \n",
              "1               2              0              0.0  2021  \n",
              "2               2              0              0.0  2021  \n",
              "3               2              0              0.0  2021  \n",
              "4               2              0              0.0  2021  \n",
              "\n",
              "[5 rows x 128 columns]"
            ],
            "text/html": [
              "\n",
              "  <div id=\"df-9a6cc87a-269a-4117-aaad-76892977e694\" class=\"colab-df-container\">\n",
              "    <div>\n",
              "<style scoped>\n",
              "    .dataframe tbody tr th:only-of-type {\n",
              "        vertical-align: middle;\n",
              "    }\n",
              "\n",
              "    .dataframe tbody tr th {\n",
              "        vertical-align: top;\n",
              "    }\n",
              "\n",
              "    .dataframe thead th {\n",
              "        text-align: right;\n",
              "    }\n",
              "</style>\n",
              "<table border=\"1\" class=\"dataframe\">\n",
              "  <thead>\n",
              "    <tr style=\"text-align: right;\">\n",
              "      <th></th>\n",
              "      <th>economy</th>\n",
              "      <th>economycode</th>\n",
              "      <th>regionwb</th>\n",
              "      <th>pop_adult</th>\n",
              "      <th>wpid_random</th>\n",
              "      <th>wgt</th>\n",
              "      <th>female</th>\n",
              "      <th>age</th>\n",
              "      <th>educ</th>\n",
              "      <th>inc_q</th>\n",
              "      <th>...</th>\n",
              "      <th>receive_transfers</th>\n",
              "      <th>receive_pension</th>\n",
              "      <th>receive_agriculture</th>\n",
              "      <th>pay_utilities</th>\n",
              "      <th>remittances</th>\n",
              "      <th>mobileowner</th>\n",
              "      <th>internetaccess</th>\n",
              "      <th>anydigpayment</th>\n",
              "      <th>merchantpay_dig</th>\n",
              "      <th>year</th>\n",
              "    </tr>\n",
              "  </thead>\n",
              "  <tbody>\n",
              "    <tr>\n",
              "      <th>0</th>\n",
              "      <td>Afghanistan</td>\n",
              "      <td>AFG</td>\n",
              "      <td>South Asia</td>\n",
              "      <td>22647496.0</td>\n",
              "      <td>144274031</td>\n",
              "      <td>0.716416</td>\n",
              "      <td>2</td>\n",
              "      <td>43.0</td>\n",
              "      <td>2</td>\n",
              "      <td>4</td>\n",
              "      <td>...</td>\n",
              "      <td>4</td>\n",
              "      <td>4</td>\n",
              "      <td>4.0</td>\n",
              "      <td>1</td>\n",
              "      <td>5.0</td>\n",
              "      <td>1</td>\n",
              "      <td>2</td>\n",
              "      <td>1</td>\n",
              "      <td>0.0</td>\n",
              "      <td>2021</td>\n",
              "    </tr>\n",
              "    <tr>\n",
              "      <th>1</th>\n",
              "      <td>Afghanistan</td>\n",
              "      <td>AFG</td>\n",
              "      <td>South Asia</td>\n",
              "      <td>22647496.0</td>\n",
              "      <td>180724554</td>\n",
              "      <td>0.497408</td>\n",
              "      <td>2</td>\n",
              "      <td>55.0</td>\n",
              "      <td>1</td>\n",
              "      <td>3</td>\n",
              "      <td>...</td>\n",
              "      <td>4</td>\n",
              "      <td>4</td>\n",
              "      <td>2.0</td>\n",
              "      <td>4</td>\n",
              "      <td>5.0</td>\n",
              "      <td>1</td>\n",
              "      <td>2</td>\n",
              "      <td>0</td>\n",
              "      <td>0.0</td>\n",
              "      <td>2021</td>\n",
              "    </tr>\n",
              "    <tr>\n",
              "      <th>2</th>\n",
              "      <td>Afghanistan</td>\n",
              "      <td>AFG</td>\n",
              "      <td>South Asia</td>\n",
              "      <td>22647496.0</td>\n",
              "      <td>130686682</td>\n",
              "      <td>0.650431</td>\n",
              "      <td>1</td>\n",
              "      <td>15.0</td>\n",
              "      <td>1</td>\n",
              "      <td>2</td>\n",
              "      <td>...</td>\n",
              "      <td>4</td>\n",
              "      <td>4</td>\n",
              "      <td>4.0</td>\n",
              "      <td>4</td>\n",
              "      <td>3.0</td>\n",
              "      <td>2</td>\n",
              "      <td>2</td>\n",
              "      <td>0</td>\n",
              "      <td>0.0</td>\n",
              "      <td>2021</td>\n",
              "    </tr>\n",
              "    <tr>\n",
              "      <th>3</th>\n",
              "      <td>Afghanistan</td>\n",
              "      <td>AFG</td>\n",
              "      <td>South Asia</td>\n",
              "      <td>22647496.0</td>\n",
              "      <td>142646649</td>\n",
              "      <td>0.991862</td>\n",
              "      <td>2</td>\n",
              "      <td>23.0</td>\n",
              "      <td>1</td>\n",
              "      <td>4</td>\n",
              "      <td>...</td>\n",
              "      <td>4</td>\n",
              "      <td>4</td>\n",
              "      <td>2.0</td>\n",
              "      <td>4</td>\n",
              "      <td>5.0</td>\n",
              "      <td>1</td>\n",
              "      <td>2</td>\n",
              "      <td>0</td>\n",
              "      <td>0.0</td>\n",
              "      <td>2021</td>\n",
              "    </tr>\n",
              "    <tr>\n",
              "      <th>4</th>\n",
              "      <td>Afghanistan</td>\n",
              "      <td>AFG</td>\n",
              "      <td>South Asia</td>\n",
              "      <td>22647496.0</td>\n",
              "      <td>199055310</td>\n",
              "      <td>0.554940</td>\n",
              "      <td>1</td>\n",
              "      <td>46.0</td>\n",
              "      <td>1</td>\n",
              "      <td>1</td>\n",
              "      <td>...</td>\n",
              "      <td>4</td>\n",
              "      <td>4</td>\n",
              "      <td>4.0</td>\n",
              "      <td>4</td>\n",
              "      <td>5.0</td>\n",
              "      <td>2</td>\n",
              "      <td>2</td>\n",
              "      <td>0</td>\n",
              "      <td>0.0</td>\n",
              "      <td>2021</td>\n",
              "    </tr>\n",
              "  </tbody>\n",
              "</table>\n",
              "<p>5 rows × 128 columns</p>\n",
              "</div>\n",
              "    <div class=\"colab-df-buttons\">\n",
              "\n",
              "  <div class=\"colab-df-container\">\n",
              "    <button class=\"colab-df-convert\" onclick=\"convertToInteractive('df-9a6cc87a-269a-4117-aaad-76892977e694')\"\n",
              "            title=\"Convert this dataframe to an interactive table.\"\n",
              "            style=\"display:none;\">\n",
              "\n",
              "  <svg xmlns=\"http://www.w3.org/2000/svg\" height=\"24px\" viewBox=\"0 -960 960 960\">\n",
              "    <path d=\"M120-120v-720h720v720H120Zm60-500h600v-160H180v160Zm220 220h160v-160H400v160Zm0 220h160v-160H400v160ZM180-400h160v-160H180v160Zm440 0h160v-160H620v160ZM180-180h160v-160H180v160Zm440 0h160v-160H620v160Z\"/>\n",
              "  </svg>\n",
              "    </button>\n",
              "\n",
              "  <style>\n",
              "    .colab-df-container {\n",
              "      display:flex;\n",
              "      gap: 12px;\n",
              "    }\n",
              "\n",
              "    .colab-df-convert {\n",
              "      background-color: #E8F0FE;\n",
              "      border: none;\n",
              "      border-radius: 50%;\n",
              "      cursor: pointer;\n",
              "      display: none;\n",
              "      fill: #1967D2;\n",
              "      height: 32px;\n",
              "      padding: 0 0 0 0;\n",
              "      width: 32px;\n",
              "    }\n",
              "\n",
              "    .colab-df-convert:hover {\n",
              "      background-color: #E2EBFA;\n",
              "      box-shadow: 0px 1px 2px rgba(60, 64, 67, 0.3), 0px 1px 3px 1px rgba(60, 64, 67, 0.15);\n",
              "      fill: #174EA6;\n",
              "    }\n",
              "\n",
              "    .colab-df-buttons div {\n",
              "      margin-bottom: 4px;\n",
              "    }\n",
              "\n",
              "    [theme=dark] .colab-df-convert {\n",
              "      background-color: #3B4455;\n",
              "      fill: #D2E3FC;\n",
              "    }\n",
              "\n",
              "    [theme=dark] .colab-df-convert:hover {\n",
              "      background-color: #434B5C;\n",
              "      box-shadow: 0px 1px 3px 1px rgba(0, 0, 0, 0.15);\n",
              "      filter: drop-shadow(0px 1px 2px rgba(0, 0, 0, 0.3));\n",
              "      fill: #FFFFFF;\n",
              "    }\n",
              "  </style>\n",
              "\n",
              "    <script>\n",
              "      const buttonEl =\n",
              "        document.querySelector('#df-9a6cc87a-269a-4117-aaad-76892977e694 button.colab-df-convert');\n",
              "      buttonEl.style.display =\n",
              "        google.colab.kernel.accessAllowed ? 'block' : 'none';\n",
              "\n",
              "      async function convertToInteractive(key) {\n",
              "        const element = document.querySelector('#df-9a6cc87a-269a-4117-aaad-76892977e694');\n",
              "        const dataTable =\n",
              "          await google.colab.kernel.invokeFunction('convertToInteractive',\n",
              "                                                    [key], {});\n",
              "        if (!dataTable) return;\n",
              "\n",
              "        const docLinkHtml = 'Like what you see? Visit the ' +\n",
              "          '<a target=\"_blank\" href=https://colab.research.google.com/notebooks/data_table.ipynb>data table notebook</a>'\n",
              "          + ' to learn more about interactive tables.';\n",
              "        element.innerHTML = '';\n",
              "        dataTable['output_type'] = 'display_data';\n",
              "        await google.colab.output.renderOutput(dataTable, element);\n",
              "        const docLink = document.createElement('div');\n",
              "        docLink.innerHTML = docLinkHtml;\n",
              "        element.appendChild(docLink);\n",
              "      }\n",
              "    </script>\n",
              "  </div>\n",
              "\n",
              "\n",
              "<div id=\"df-d181b32b-9868-45d1-bf52-477c98c8e163\">\n",
              "  <button class=\"colab-df-quickchart\" onclick=\"quickchart('df-d181b32b-9868-45d1-bf52-477c98c8e163')\"\n",
              "            title=\"Suggest charts\"\n",
              "            style=\"display:none;\">\n",
              "\n",
              "<svg xmlns=\"http://www.w3.org/2000/svg\" height=\"24px\"viewBox=\"0 0 24 24\"\n",
              "     width=\"24px\">\n",
              "    <g>\n",
              "        <path d=\"M19 3H5c-1.1 0-2 .9-2 2v14c0 1.1.9 2 2 2h14c1.1 0 2-.9 2-2V5c0-1.1-.9-2-2-2zM9 17H7v-7h2v7zm4 0h-2V7h2v10zm4 0h-2v-4h2v4z\"/>\n",
              "    </g>\n",
              "</svg>\n",
              "  </button>\n",
              "\n",
              "<style>\n",
              "  .colab-df-quickchart {\n",
              "      --bg-color: #E8F0FE;\n",
              "      --fill-color: #1967D2;\n",
              "      --hover-bg-color: #E2EBFA;\n",
              "      --hover-fill-color: #174EA6;\n",
              "      --disabled-fill-color: #AAA;\n",
              "      --disabled-bg-color: #DDD;\n",
              "  }\n",
              "\n",
              "  [theme=dark] .colab-df-quickchart {\n",
              "      --bg-color: #3B4455;\n",
              "      --fill-color: #D2E3FC;\n",
              "      --hover-bg-color: #434B5C;\n",
              "      --hover-fill-color: #FFFFFF;\n",
              "      --disabled-bg-color: #3B4455;\n",
              "      --disabled-fill-color: #666;\n",
              "  }\n",
              "\n",
              "  .colab-df-quickchart {\n",
              "    background-color: var(--bg-color);\n",
              "    border: none;\n",
              "    border-radius: 50%;\n",
              "    cursor: pointer;\n",
              "    display: none;\n",
              "    fill: var(--fill-color);\n",
              "    height: 32px;\n",
              "    padding: 0;\n",
              "    width: 32px;\n",
              "  }\n",
              "\n",
              "  .colab-df-quickchart:hover {\n",
              "    background-color: var(--hover-bg-color);\n",
              "    box-shadow: 0 1px 2px rgba(60, 64, 67, 0.3), 0 1px 3px 1px rgba(60, 64, 67, 0.15);\n",
              "    fill: var(--button-hover-fill-color);\n",
              "  }\n",
              "\n",
              "  .colab-df-quickchart-complete:disabled,\n",
              "  .colab-df-quickchart-complete:disabled:hover {\n",
              "    background-color: var(--disabled-bg-color);\n",
              "    fill: var(--disabled-fill-color);\n",
              "    box-shadow: none;\n",
              "  }\n",
              "\n",
              "  .colab-df-spinner {\n",
              "    border: 2px solid var(--fill-color);\n",
              "    border-color: transparent;\n",
              "    border-bottom-color: var(--fill-color);\n",
              "    animation:\n",
              "      spin 1s steps(1) infinite;\n",
              "  }\n",
              "\n",
              "  @keyframes spin {\n",
              "    0% {\n",
              "      border-color: transparent;\n",
              "      border-bottom-color: var(--fill-color);\n",
              "      border-left-color: var(--fill-color);\n",
              "    }\n",
              "    20% {\n",
              "      border-color: transparent;\n",
              "      border-left-color: var(--fill-color);\n",
              "      border-top-color: var(--fill-color);\n",
              "    }\n",
              "    30% {\n",
              "      border-color: transparent;\n",
              "      border-left-color: var(--fill-color);\n",
              "      border-top-color: var(--fill-color);\n",
              "      border-right-color: var(--fill-color);\n",
              "    }\n",
              "    40% {\n",
              "      border-color: transparent;\n",
              "      border-right-color: var(--fill-color);\n",
              "      border-top-color: var(--fill-color);\n",
              "    }\n",
              "    60% {\n",
              "      border-color: transparent;\n",
              "      border-right-color: var(--fill-color);\n",
              "    }\n",
              "    80% {\n",
              "      border-color: transparent;\n",
              "      border-right-color: var(--fill-color);\n",
              "      border-bottom-color: var(--fill-color);\n",
              "    }\n",
              "    90% {\n",
              "      border-color: transparent;\n",
              "      border-bottom-color: var(--fill-color);\n",
              "    }\n",
              "  }\n",
              "</style>\n",
              "\n",
              "  <script>\n",
              "    async function quickchart(key) {\n",
              "      const quickchartButtonEl =\n",
              "        document.querySelector('#' + key + ' button');\n",
              "      quickchartButtonEl.disabled = true;  // To prevent multiple clicks.\n",
              "      quickchartButtonEl.classList.add('colab-df-spinner');\n",
              "      try {\n",
              "        const charts = await google.colab.kernel.invokeFunction(\n",
              "            'suggestCharts', [key], {});\n",
              "      } catch (error) {\n",
              "        console.error('Error during call to suggestCharts:', error);\n",
              "      }\n",
              "      quickchartButtonEl.classList.remove('colab-df-spinner');\n",
              "      quickchartButtonEl.classList.add('colab-df-quickchart-complete');\n",
              "    }\n",
              "    (() => {\n",
              "      let quickchartButtonEl =\n",
              "        document.querySelector('#df-d181b32b-9868-45d1-bf52-477c98c8e163 button');\n",
              "      quickchartButtonEl.style.display =\n",
              "        google.colab.kernel.accessAllowed ? 'block' : 'none';\n",
              "    })();\n",
              "  </script>\n",
              "</div>\n",
              "\n",
              "    </div>\n",
              "  </div>\n"
            ],
            "application/vnd.google.colaboratory.intrinsic+json": {
              "type": "dataframe",
              "variable_name": "data"
            }
          },
          "metadata": {},
          "execution_count": 26
        }
      ]
    },
    {
      "cell_type": "code",
      "source": [
        "data.info()"
      ],
      "metadata": {
        "colab": {
          "base_uri": "https://localhost:8080/"
        },
        "id": "SUq3FSHGWdgc",
        "outputId": "ce91db55-6bad-41d4-e551-6c0c034bfe75"
      },
      "execution_count": 29,
      "outputs": [
        {
          "output_type": "stream",
          "name": "stdout",
          "text": [
            "<class 'pandas.core.frame.DataFrame'>\n",
            "RangeIndex: 143887 entries, 0 to 143886\n",
            "Columns: 128 entries, economy to year\n",
            "dtypes: float64(90), int64(35), object(3)\n",
            "memory usage: 140.5+ MB\n"
          ]
        }
      ]
    },
    {
      "cell_type": "code",
      "source": [
        "data.shape"
      ],
      "metadata": {
        "colab": {
          "base_uri": "https://localhost:8080/"
        },
        "id": "NTraSPro7L2T",
        "outputId": "f020943d-2628-422c-d732-1d801e927062"
      },
      "execution_count": 25,
      "outputs": [
        {
          "output_type": "execute_result",
          "data": {
            "text/plain": [
              "(143887, 128)"
            ]
          },
          "metadata": {},
          "execution_count": 25
        }
      ]
    },
    {
      "cell_type": "code",
      "source": [
        "data.index"
      ],
      "metadata": {
        "colab": {
          "base_uri": "https://localhost:8080/"
        },
        "id": "MCnbZ2H1U7A5",
        "outputId": "d3fc65f5-435a-4126-cd55-21a97a6f1ee2"
      },
      "execution_count": 23,
      "outputs": [
        {
          "output_type": "execute_result",
          "data": {
            "text/plain": [
              "RangeIndex(start=0, stop=143887, step=1)"
            ]
          },
          "metadata": {},
          "execution_count": 23
        }
      ]
    },
    {
      "cell_type": "code",
      "source": [
        "data.columns"
      ],
      "metadata": {
        "colab": {
          "base_uri": "https://localhost:8080/"
        },
        "id": "jZXg33mRU8wS",
        "outputId": "45973735-2555-4a24-e6f3-600e84253c50"
      },
      "execution_count": 24,
      "outputs": [
        {
          "output_type": "execute_result",
          "data": {
            "text/plain": [
              "Index(['economy', 'economycode', 'regionwb', 'pop_adult', 'wpid_random', 'wgt',\n",
              "       'female', 'age', 'educ', 'inc_q',\n",
              "       ...\n",
              "       'receive_transfers', 'receive_pension', 'receive_agriculture',\n",
              "       'pay_utilities', 'remittances', 'mobileowner', 'internetaccess',\n",
              "       'anydigpayment', 'merchantpay_dig', 'year'],\n",
              "      dtype='object', length=128)"
            ]
          },
          "metadata": {},
          "execution_count": 24
        }
      ]
    },
    {
      "cell_type": "markdown",
      "source": [
        "### Checking for missing values"
      ],
      "metadata": {
        "id": "pfFP58zFWH2Y"
      }
    },
    {
      "cell_type": "code",
      "source": [
        "# Do to the size of the Dataset we filter columns with missing values greater than 0. We look further into all the\n",
        "# missing values with pd.set_option('display.max_rows', None) was used afterwards using pd.reset_option('display.max_rows')\n",
        "pd.reset_option('display.max_rows')\n",
        "missing_data = data.isnull().sum()\n",
        "missing_data[missing_data > 0]"
      ],
      "metadata": {
        "colab": {
          "base_uri": "https://localhost:8080/",
          "height": 458
        },
        "id": "4FCh1TGlWLTL",
        "outputId": "a9130506-d35b-4b1d-bd78-9fe55d63734c"
      },
      "execution_count": 40,
      "outputs": [
        {
          "output_type": "execute_result",
          "data": {
            "text/plain": [
              "regionwb                 1000\n",
              "age                       467\n",
              "emp_in                   3502\n",
              "urbanicity_f2f          68243\n",
              "account_mob             61181\n",
              "                        ...  \n",
              "fin45_1                 33106\n",
              "fin45_1_China          140387\n",
              "receive_agriculture     29606\n",
              "remittances             29606\n",
              "merchantpay_dig         29606\n",
              "Length: 89, dtype: int64"
            ],
            "text/html": [
              "<div>\n",
              "<style scoped>\n",
              "    .dataframe tbody tr th:only-of-type {\n",
              "        vertical-align: middle;\n",
              "    }\n",
              "\n",
              "    .dataframe tbody tr th {\n",
              "        vertical-align: top;\n",
              "    }\n",
              "\n",
              "    .dataframe thead th {\n",
              "        text-align: right;\n",
              "    }\n",
              "</style>\n",
              "<table border=\"1\" class=\"dataframe\">\n",
              "  <thead>\n",
              "    <tr style=\"text-align: right;\">\n",
              "      <th></th>\n",
              "      <th>0</th>\n",
              "    </tr>\n",
              "  </thead>\n",
              "  <tbody>\n",
              "    <tr>\n",
              "      <th>regionwb</th>\n",
              "      <td>1000</td>\n",
              "    </tr>\n",
              "    <tr>\n",
              "      <th>age</th>\n",
              "      <td>467</td>\n",
              "    </tr>\n",
              "    <tr>\n",
              "      <th>emp_in</th>\n",
              "      <td>3502</td>\n",
              "    </tr>\n",
              "    <tr>\n",
              "      <th>urbanicity_f2f</th>\n",
              "      <td>68243</td>\n",
              "    </tr>\n",
              "    <tr>\n",
              "      <th>account_mob</th>\n",
              "      <td>61181</td>\n",
              "    </tr>\n",
              "    <tr>\n",
              "      <th>...</th>\n",
              "      <td>...</td>\n",
              "    </tr>\n",
              "    <tr>\n",
              "      <th>fin45_1</th>\n",
              "      <td>33106</td>\n",
              "    </tr>\n",
              "    <tr>\n",
              "      <th>fin45_1_China</th>\n",
              "      <td>140387</td>\n",
              "    </tr>\n",
              "    <tr>\n",
              "      <th>receive_agriculture</th>\n",
              "      <td>29606</td>\n",
              "    </tr>\n",
              "    <tr>\n",
              "      <th>remittances</th>\n",
              "      <td>29606</td>\n",
              "    </tr>\n",
              "    <tr>\n",
              "      <th>merchantpay_dig</th>\n",
              "      <td>29606</td>\n",
              "    </tr>\n",
              "  </tbody>\n",
              "</table>\n",
              "<p>89 rows × 1 columns</p>\n",
              "</div><br><label><b>dtype:</b> int64</label>"
            ]
          },
          "metadata": {},
          "execution_count": 40
        }
      ]
    },
    {
      "cell_type": "markdown",
      "source": [
        "Its clear that there are significant missing values in the dataset. However, many of these missing values result from certain questions not being asked to all participants, which accounts for the bulk of the missing data. Additionally, we notice some missing information regarding the age, region, and employment status of participants. Since the missing values in these key categories (age, region, and workforce status) is quite small compared to the dataset size, it has been decided to remove these rows.\n",
        "\n",
        "Additionally, columns with a high percentage of missing data (up to 90%) were removed, as they generally represent niche or specific follow-up questions. This simplification streamlines the dataset without affecting its overall quality, as our focus is on a broader analysis rather than specific topics like how domestic remittances were received."
      ],
      "metadata": {
        "id": "FZ8xfbYkpPSt"
      }
    },
    {
      "cell_type": "code",
      "source": [
        "# Removing the rows with missing values in 'regionwb', 'age', and 'emp_in'\n",
        "data_cleaned = data.dropna(subset=['regionwb', 'age', 'emp_in'])\n",
        "\n",
        "# Removing columns with more than 4000 missing values as this removes all \"irrelevant\" columns but not regionwb, age and emp_in\n",
        "missing_threshold = 4000\n",
        "cols_to_drop = data_cleaned.columns[data_cleaned.isnull().sum() > missing_threshold]\n",
        "\n",
        "# Dropping the columns\n",
        "data_cleaned.drop(columns=cols_to_drop, inplace=True)\n",
        "\n",
        "# Cleaned dataset\n",
        "data_cleaned.info()"
      ],
      "metadata": {
        "colab": {
          "base_uri": "https://localhost:8080/"
        },
        "id": "rKd6nl2Xort3",
        "outputId": "f2c546cd-3e6b-4b5d-b9a6-3723e2496fa3"
      },
      "execution_count": 46,
      "outputs": [
        {
          "output_type": "stream",
          "name": "stdout",
          "text": [
            "<class 'pandas.core.frame.DataFrame'>\n",
            "Index: 138973 entries, 0 to 143886\n",
            "Data columns (total 42 columns):\n",
            " #   Column             Non-Null Count   Dtype  \n",
            "---  ------             --------------   -----  \n",
            " 0   economy            138973 non-null  object \n",
            " 1   economycode        138973 non-null  object \n",
            " 2   regionwb           138973 non-null  object \n",
            " 3   pop_adult          138973 non-null  float64\n",
            " 4   wpid_random        138973 non-null  int64  \n",
            " 5   wgt                138973 non-null  float64\n",
            " 6   female             138973 non-null  int64  \n",
            " 7   age                138973 non-null  float64\n",
            " 8   educ               138973 non-null  int64  \n",
            " 9   inc_q              138973 non-null  int64  \n",
            " 10  emp_in             138973 non-null  float64\n",
            " 11  account            138973 non-null  int64  \n",
            " 12  account_fin        138973 non-null  int64  \n",
            " 13  fin2               138973 non-null  int64  \n",
            " 14  fin14_1            138973 non-null  int64  \n",
            " 15  fin14a             138973 non-null  int64  \n",
            " 16  fin14a1            138973 non-null  int64  \n",
            " 17  fin14b             138973 non-null  int64  \n",
            " 18  fin16              138973 non-null  int64  \n",
            " 19  fin17a             138973 non-null  int64  \n",
            " 20  fin20              138973 non-null  int64  \n",
            " 21  fin22a             138973 non-null  int64  \n",
            " 22  fin22b             138973 non-null  int64  \n",
            " 23  fin24              138973 non-null  int64  \n",
            " 24  fin30              138973 non-null  int64  \n",
            " 25  fin32              138973 non-null  int64  \n",
            " 26  fin37              138973 non-null  int64  \n",
            " 27  fin38              138973 non-null  int64  \n",
            " 28  fin44a             138973 non-null  int64  \n",
            " 29  fin44b             138973 non-null  int64  \n",
            " 30  fin44c             138973 non-null  int64  \n",
            " 31  fin44d             138973 non-null  int64  \n",
            " 32  saved              138973 non-null  int64  \n",
            " 33  borrowed           138973 non-null  int64  \n",
            " 34  receive_wages      138973 non-null  int64  \n",
            " 35  receive_transfers  138973 non-null  int64  \n",
            " 36  receive_pension    138973 non-null  int64  \n",
            " 37  pay_utilities      138973 non-null  int64  \n",
            " 38  mobileowner        138973 non-null  int64  \n",
            " 39  internetaccess     138973 non-null  int64  \n",
            " 40  anydigpayment      138973 non-null  int64  \n",
            " 41  year               138973 non-null  int64  \n",
            "dtypes: float64(4), int64(35), object(3)\n",
            "memory usage: 45.6+ MB\n"
          ]
        },
        {
          "output_type": "stream",
          "name": "stderr",
          "text": [
            "<ipython-input-46-cd1297e0bc21>:9: SettingWithCopyWarning: \n",
            "A value is trying to be set on a copy of a slice from a DataFrame\n",
            "\n",
            "See the caveats in the documentation: https://pandas.pydata.org/pandas-docs/stable/user_guide/indexing.html#returning-a-view-versus-a-copy\n",
            "  data_cleaned.drop(columns=cols_to_drop, inplace=True)\n"
          ]
        }
      ]
    },
    {
      "cell_type": "markdown",
      "source": [
        "**This leaves us with a dataset of 138973 rows and 42 columns with zero missing values**.\n",
        "\n",
        "The remaining columns signify the following which we will be working with:\n",
        "\n",
        "0. economy: The name of the country or economy.\n",
        "1. economycode: ISO 3-digit code representing each economy.\n",
        "2. regionwb: World Bank region classification (e.g., Sub-Saharan Africa, East\n",
        "    Asia, etc.).\n",
        "3.  pop_adult: The population of adults (aged 15+) in the economy.\n",
        "4.  wpid_random: A unique identifier for each respondent in the dataset.\n",
        "5.  wgt: Survey weight for each respondent, used to make the sample\n",
        "    representative of the population.\n",
        "6.  female: Gender of the respondent (1 if female, 2 if male).\n",
        "7.  age: Age of the respondent.\n",
        "8.  educ: Respondent’s education level form level 1 to 3\n",
        "9.  inc_q: Income quintile of the respondent’s household.\n",
        "10. emp_in: Employment status of the respondent.\n",
        "11. account: Whether the respondent has an account at a financial institution\n",
        "    or with a mobile money service provider.\n",
        "12. account_fin: Whether the respondent has an account at a formal financial\n",
        "    institution.\n",
        "13. fin2: Has a debit card\n",
        "14. fin14_1: Whether the respondent used mobile money.\n",
        "15. fin14a: Made bill payments online using the Internet\n",
        "16. fin14a1: Send money to a relative or friend online\n",
        "    using the Internet\n",
        "17. fin14b: Bought something online using the Internet\n",
        "18. fin16: Saved for old age\n",
        "19. fin17a: Saved using an account at a financial\n",
        "    institution\n",
        "20. fin20: Borrowed for medical purposes\n",
        "21. fin22a: Borrowed from a financial institution\n",
        "22. fin22b: Borrowed from family or friends\n",
        "23. fin24: Main source of emergency funds in 30 days\n",
        "24. fin30: Paid a utility bill\n",
        "25. fin32: Received wage payments\n",
        "26. fin37: Received a government transfer\n",
        "27. fin38: Received a government pension\n",
        "28. fin44a: Financially worried: old age\n",
        "29. fin44b: Financially worried: medical cost\n",
        "30. fin44c: Financially worried: bills\n",
        "31. fin44d: Financially worried: education\n",
        "32. saved: Saved money in the past 12 months.\n",
        "33. borrowed: Borrowed money in the past 12 months.\n",
        "34. receive_wages: Received a wage payment and method\n",
        "35. receive_transfers: Received government transfers or aid payments and method\n",
        "36. receive_pension: Received government pension payments. and method\n",
        "37. pay_utilities: Paid utility bills and method\n",
        "38. mobileowner: Whether the respondent owns a mobile phone.\n",
        "39. internetaccess: Whether the respondent has access to the internet.\n",
        "40. anydigpayment: Whether the respondent made any digital payment.\n",
        "41. year: The year of the data collection"
      ],
      "metadata": {
        "id": "5eH3uvFNmH76"
      }
    },
    {
      "cell_type": "markdown",
      "source": [],
      "metadata": {
        "id": "R6FO9OFIrjmD"
      }
    }
  ]
}